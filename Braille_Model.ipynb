{
  "nbformat": 4,
  "nbformat_minor": 0,
  "metadata": {
    "kernelspec": {
      "language": "python",
      "display_name": "Python 3",
      "name": "python3"
    },
    "language_info": {
      "pygments_lexer": "ipython3",
      "nbconvert_exporter": "python",
      "version": "3.6.4",
      "file_extension": ".py",
      "codemirror_mode": {
        "name": "ipython",
        "version": 3
      },
      "name": "python",
      "mimetype": "text/x-python"
    },
    "colab": {
      "name": "Braille Model.ipynb",
      "provenance": [],
      "collapsed_sections": []
    }
  },
  "cells": [
    {
      "cell_type": "code",
      "metadata": {
        "_uuid": "8f2839f25d086af736a60e9eeb907d3b93b6e0e5",
        "_cell_guid": "b1076dfc-b9ad-4769-8c92-a6c4dae69d19",
        "trusted": true,
        "id": "uLQtxHxW8o3K",
        "colab_type": "code",
        "colab": {}
      },
      "source": [
        "import os\n",
        "import cv2\n",
        "import matplotlib.pyplot as plt\n",
        "import numpy as np\n",
        "from tensorflow.keras.utils import to_categorical\n",
        "X = []\n",
        "y = []\n",
        "datadir = '../input/braille-character-dataset/Braille Dataset/Braille Dataset'\n",
        "for image in os.listdir(datadir):\n",
        "    x = cv2.imread('../input/braille-character-dataset/Braille Dataset/Braille Dataset/{}'.format(image))\n",
        "    x = cv2.cvtColor(x,cv2.COLOR_BGR2GRAY)\n",
        "    X.append(x.tolist())\n",
        "    y.append(ord(image[0]))\n",
        "X = np.asarray(X)\n",
        "X = (X-127.5)/127.5\n",
        "X = np.expand_dims(X, axis=3)\n",
        "y = np.asarray(y)\n",
        "y = y - ord('a')\n",
        "y = to_categorical(y)"
      ],
      "execution_count": 0,
      "outputs": []
    },
    {
      "cell_type": "code",
      "metadata": {
        "trusted": true,
        "id": "cmBywND38o3S",
        "colab_type": "code",
        "colab": {}
      },
      "source": [
        "from tensorflow.keras.models import Model\n",
        "from tensorflow.keras.layers import Input,Conv2D,BatchNormalization,MaxPooling2D,Dropout,Flatten,Dense\n",
        "from tensorflow.keras.regularizers import l2\n",
        "from tensorflow.keras.callbacks import ModelCheckpoint,ReduceLROnPlateau,EarlyStopping\n",
        "def braille():\n",
        "    inputs = Input(shape=(28,28,1)) \n",
        "    X = Conv2D(64,3,padding='same',activation='relu')(inputs)\n",
        "    X = BatchNormalization()(X)\n",
        "    X = MaxPooling2D((2,2))(X)\n",
        "    X = Conv2D(128,3,padding='same',activation='relu')(X)\n",
        "    X = BatchNormalization()(X)\n",
        "    X = MaxPooling2D((2,2))(X)\n",
        "    X = Conv2D(256,3,padding='same',activation='relu')(X)\n",
        "    X = BatchNormalization()(X)\n",
        "    X = Flatten()(X)\n",
        "    X = Dense(256,activation='relu')(X)\n",
        "    X = BatchNormalization()(X)\n",
        "    X = Dropout(0.2)(X)\n",
        "    X = Dense(64,activation='relu')(X)\n",
        "    X = BatchNormalization()(X)\n",
        "    X = Dropout(0.2)(X)\n",
        "    X = Dense(26,activation='softmax')(X)\n",
        "    return Model(inputs,X)\n",
        "model = braille()\n",
        "model.compile(loss='categorical_crossentropy',optimizer='adam',metrics=['accuracy'])"
      ],
      "execution_count": 0,
      "outputs": []
    },
    {
      "cell_type": "code",
      "metadata": {
        "trusted": true,
        "id": "yYPSJjvR8o3c",
        "colab_type": "code",
        "colab": {}
      },
      "source": [
        "model_ckpt = ModelCheckpoint('BrailleNet.h5',save_best_only=True)\n",
        "reduce_lr = ReduceLROnPlateau(patience=8,verbose=0)\n",
        "early_stop = EarlyStopping(patience=20,verbose=1)\n",
        "model.fit(X,y,epochs=100,callbacks=[model_ckpt,reduce_lr,early_stop])"
      ],
      "execution_count": 0,
      "outputs": []
    },
    {
      "cell_type": "code",
      "metadata": {
        "trusted": true,
        "id": "-iPyUt7E8o3j",
        "colab_type": "code",
        "colab": {}
      },
      "source": [
        "idx = np.random.randint(y.shape[0])\n",
        "plt.imshow(X[idx].reshape(28,28),cmap='Greys_r')\n",
        "plt.colorbar()\n",
        "print(np.argmax(y[idx]))\n",
        "print(np.argmax(model.predict(np.expand_dims(X[idx], axis=0))))"
      ],
      "execution_count": 0,
      "outputs": []
    },
    {
      "cell_type": "code",
      "metadata": {
        "trusted": true,
        "id": "ymoQuv3e8o3p",
        "colab_type": "code",
        "colab": {}
      },
      "source": [
        "test = cv2.imread('../input/braille/goal.png')\n",
        "test = cv2.cvtColor(test,cv2.COLOR_BGR2GRAY)\n",
        "test = test.astype(float)\n",
        "test = cv2.resize(test,(825,2052))\n",
        "test = -(test-51)/51"
      ],
      "execution_count": 0,
      "outputs": []
    },
    {
      "cell_type": "code",
      "metadata": {
        "trusted": true,
        "id": "zK5V3Mc18o32",
        "colab_type": "code",
        "colab": {}
      },
      "source": [
        "plt.imshow(test)"
      ],
      "execution_count": 0,
      "outputs": []
    },
    {
      "cell_type": "code",
      "metadata": {
        "trusted": true,
        "id": "EXD09hib8o38",
        "colab_type": "code",
        "colab": {}
      },
      "source": [
        "X_test = cv2.resize(test[0:36,0:25],(28,28))\n",
        "X_test = X_test.reshape(1,28,28,1)\n",
        "plt.imshow(X_test.reshape(28,28),cmap='Greys_r')\n",
        "plt.colorbar()\n",
        "print(chr(np.argmax(model.predict(X_test))+ord('a')))\n",
        "print(model.predict(X_test))"
      ],
      "execution_count": 0,
      "outputs": []
    },
    {
      "cell_type": "code",
      "metadata": {
        "trusted": true,
        "id": "zZrn6qTb8o4E",
        "colab_type": "code",
        "colab": {}
      },
      "source": [
        "isnum = False\n",
        "\n",
        "for i in range(57):\n",
        "    for j in range(33):\n",
        "        if j < 10:\n",
        "            X_test = cv2.resize(test[36*i:36*(i+1),5+25*j:5+25*(j+1)],(28,28))\n",
        "        else:\n",
        "            X_test = cv2.resize(test[36*i:36*(i+1),25*j:25*(j+1)],(28,28))\n",
        "        X_test = X_test.reshape(1,28,28,1)\n",
        "        predict = chr(np.argmax(model.predict(X_test))+ord('a'))\n",
        "        if predict == 'y':\n",
        "            isnum = True\n",
        "            iscap = False\n",
        "            continue\n",
        "        elif predict == 'u':\n",
        "            iscap = True\n",
        "            isnum = False\n",
        "            continue\n",
        "        else:\n",
        "            if isnum == True:\n",
        "                print(str((np.argmax(model.predict(X_test))+1)%10),end='')\n",
        "                isnum = False\n",
        "            elif iscap == True:\n",
        "                print(str(chr(np.argmax(model.predict(X_test))+ord('A'))),end='')\n",
        "                iscap = False\n",
        "            else:\n",
        "                print(str(chr(np.argmax(model.predict(X_test))+ord('a'))),end='')"
      ],
      "execution_count": 0,
      "outputs": []
    }
  ]
}
